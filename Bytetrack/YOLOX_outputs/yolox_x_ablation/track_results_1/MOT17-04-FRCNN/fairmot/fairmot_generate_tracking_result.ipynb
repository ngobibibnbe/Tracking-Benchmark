{
 "cells": [
  {
   "cell_type": "code",
   "execution_count": 1,
   "metadata": {},
   "outputs": [],
   "source": [
    "import json\n",
    "label_file=\"MOT17-04-SDP.json\"\n",
    "\n",
    "with open(label_file,\"r\") as file:\n",
    "    data=json.load(file)\n",
    "result_track={}\n",
    "\n",
    "for frame_id,content in  data.items():\n",
    "    result_track[frame_id]={}\n",
    "    for track in content[\"current\"]:\n",
    "        track_id= track[\"track_id\"]\n",
    "        if track_id is not None:\n",
    "            result_track[frame_id][track_id]=track[\"location\"]\n",
    "            \n",
    "with open(\"fairmot_MOT17_04.json\", \"w\") as file:\n",
    "    json.dump(result_track, file)\n",
    "    "
   ]
  }
 ],
 "metadata": {
  "kernelspec": {
   "display_name": "HMMBytetrack",
   "language": "python",
   "name": "python3"
  },
  "language_info": {
   "codemirror_mode": {
    "name": "ipython",
    "version": 3
   },
   "file_extension": ".py",
   "mimetype": "text/x-python",
   "name": "python",
   "nbconvert_exporter": "python",
   "pygments_lexer": "ipython3",
   "version": "3.11.4"
  }
 },
 "nbformat": 4,
 "nbformat_minor": 2
}
