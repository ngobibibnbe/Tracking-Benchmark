{
 "cells": [
  {
   "cell_type": "code",
   "execution_count": 5,
   "metadata": {},
   "outputs": [
    {
     "name": "stdout",
     "output_type": "stream",
     "text": [
      "['MOT17-04-FRCNN', 'MOT17-09-FRCNN', 'MOT17-05-FRCNN', 'MOT17-13-FRCNN', 'MOT17-10-FRCNN', 'MOT17-11-FRCNN', 'MOT17-02-FRCNN']\n"
     ]
    }
   ],
   "source": [
    "import pandas as pd \n",
    "import cv2\n",
    "import numpy as np\n",
    "\n",
    "import numpy as np  \n",
    "import pandas as pd\n",
    "\n",
    "import numpy as np\n",
    "from scipy.optimize import linear_sum_assignment\n",
    "#! pip install mpmath\n",
    "from mpmath import *\n",
    "import pandas as pd\n",
    "import numpy as np \n",
    "import datetime as dt\n",
    "import json \n",
    "import copy\n",
    "import motmetrics as mm\n",
    "import re\n",
    "import pandas as pd \n",
    "from ATQ import adding_atq\n",
    "from forwardBackward import process_forwad_backward\n",
    "from utils import put_results_on_video\n",
    "\n",
    "import os \n",
    "import time \n",
    "\n",
    "import pandas as pd \n",
    "import cv2\n",
    "import numpy as np\n",
    "\n",
    "import numpy as np  \n",
    "import pandas as pd\n",
    "\n",
    "import numpy as np\n",
    "from scipy.optimize import linear_sum_assignment\n",
    "#! pip install mpmath\n",
    "from mpmath import *\n",
    "import pandas as pd\n",
    "import numpy as np \n",
    "import datetime as dt\n",
    "import json \n",
    "import copy\n",
    "import motmetrics as mm\n",
    "import re\n",
    "import pandas as pd \n",
    "from ATQ import adding_atq\n",
    "from forwardBackward import process_forwad_backward\n",
    "import os \n",
    "import time \n",
    "\n",
    "import os\n",
    "import json \n",
    "import cv2\n",
    "import pandas as pd\n",
    "\n",
    "\n",
    "\n",
    "\n",
    "####get all dataset names \n",
    "def get_all_folders(path):\n",
    "    folders = [f.name for f in os.scandir(path) if f.is_dir() and 'FRCNN' in f.name]\n",
    "    return folders\n",
    "\n",
    "def convert_mot_format_to_json_format(gt_path=None,destination_path=None):\n",
    "    \"\"\"\n",
    "        read the MOT17 format and store in our dictionnary tracking format at the destination provided\n",
    "    \"\"\"\n",
    "    with open(gt_path, 'r') as file:\n",
    "        # Read each line in the file\n",
    "        tracking={}\n",
    "        for line in file:\n",
    "            # Remove any trailing whitespace/newline characters and split by comma\n",
    "            #print(line.strip())\n",
    "            # ['frame', 'id', 'bbox_left', 'bbox_top', 'bbox_width', 'bbox_height', 'confidence', 'class', 'visibility']\n",
    "            frame_id, id, x,y,w,h,conf,class_,_ = line.strip().split(',')\n",
    "            \"\"\"print(line.strip().split(','))\n",
    "            print(frame_id,id,x,y,w,h)\"\"\"\n",
    "            # Print the extracted elements for each line\n",
    "            if int(class_)==1:\n",
    "                cr_frame_id = str(int(frame_id)-1) #because halfs start at one\n",
    "                if cr_frame_id not in tracking.keys():\n",
    "                    tracking[cr_frame_id]={}\n",
    "                tracking[cr_frame_id][id]=[int(x),int(y),int(w),int(h)]\n",
    "    with open(destination_path, \"w\") as file:\n",
    "        json.dump(tracking,file)\n",
    "    print('tracking saved at', destination_path)\n",
    "    return tracking\n",
    "\n",
    "base_path =\"/home/sophie/uncertain-identity-aware-tracking/Bytetrack/datasets/mot/train\"\n",
    "path = base_path\n",
    "folders = get_all_folders(path)\n",
    "print(folders)"
   ]
  },
  {
   "cell_type": "markdown",
   "metadata": {},
   "source": [
    "Clean Data\n"
   ]
  },
  {
   "cell_type": "code",
   "execution_count": 3,
   "metadata": {},
   "outputs": [
    {
     "name": "stdout",
     "output_type": "stream",
     "text": [
      "['MOT17-04-FRCNN', 'MOT17-09-FRCNN', 'MOT17-05-FRCNN', 'MOT17-13-FRCNN', 'MOT17-10-FRCNN', 'MOT17-11-FRCNN', 'MOT17-02-FRCNN']\n",
      "tracking saved at /home/sophie/uncertain-identity-aware-tracking/Bytetrack/YOLOX_outputs/yolox_x_ablation/track_results_1/MOT17-04-FRCNN/MOT17-04-FRCNN_gt.json\n",
      "tracking saved at /home/sophie/uncertain-identity-aware-tracking/Bytetrack/YOLOX_outputs/yolox_x_ablation/track_results_1/MOT17-04-FRCNN/MOT17-04-FRCNN_gt.json\n",
      "the first image is  /home/sophie/uncertain-identity-aware-tracking/Bytetrack/tools/datasets/mot/train/MOT17-04-FRCNN/img1/000524.jpg\n",
      "Video saved to /home/sophie/uncertain-identity-aware-tracking/Bytetrack/YOLOX_outputs/yolox_x_ablation/videos/MOT17-04-FRCNN/gt_video.mp4\n",
      "video done at /home/sophie/uncertain-identity-aware-tracking/Bytetrack/YOLOX_outputs/yolox_x_ablation/videos/MOT17-04-FRCNN/gt_annotated_video.mp4\n",
      "tracking saved at /home/sophie/uncertain-identity-aware-tracking/Bytetrack/YOLOX_outputs/yolox_x_ablation/track_results_1/MOT17-09-FRCNN/MOT17-09-FRCNN_gt.json\n",
      "tracking saved at /home/sophie/uncertain-identity-aware-tracking/Bytetrack/YOLOX_outputs/yolox_x_ablation/track_results_1/MOT17-09-FRCNN/MOT17-09-FRCNN_gt.json\n",
      "the first image is  /home/sophie/uncertain-identity-aware-tracking/Bytetrack/tools/datasets/mot/train/MOT17-09-FRCNN/img1/000262.jpg\n",
      "Video saved to /home/sophie/uncertain-identity-aware-tracking/Bytetrack/YOLOX_outputs/yolox_x_ablation/videos/MOT17-09-FRCNN/gt_video.mp4\n",
      "video done at /home/sophie/uncertain-identity-aware-tracking/Bytetrack/YOLOX_outputs/yolox_x_ablation/videos/MOT17-09-FRCNN/gt_annotated_video.mp4\n",
      "tracking saved at /home/sophie/uncertain-identity-aware-tracking/Bytetrack/YOLOX_outputs/yolox_x_ablation/track_results_1/MOT17-05-FRCNN/MOT17-05-FRCNN_gt.json\n",
      "tracking saved at /home/sophie/uncertain-identity-aware-tracking/Bytetrack/YOLOX_outputs/yolox_x_ablation/track_results_1/MOT17-05-FRCNN/MOT17-05-FRCNN_gt.json\n",
      "the first image is  /home/sophie/uncertain-identity-aware-tracking/Bytetrack/tools/datasets/mot/train/MOT17-05-FRCNN/img1/000418.jpg\n",
      "Video saved to /home/sophie/uncertain-identity-aware-tracking/Bytetrack/YOLOX_outputs/yolox_x_ablation/videos/MOT17-05-FRCNN/gt_video.mp4\n",
      "video done at /home/sophie/uncertain-identity-aware-tracking/Bytetrack/YOLOX_outputs/yolox_x_ablation/videos/MOT17-05-FRCNN/gt_annotated_video.mp4\n",
      "tracking saved at /home/sophie/uncertain-identity-aware-tracking/Bytetrack/YOLOX_outputs/yolox_x_ablation/track_results_1/MOT17-13-FRCNN/MOT17-13-FRCNN_gt.json\n",
      "tracking saved at /home/sophie/uncertain-identity-aware-tracking/Bytetrack/YOLOX_outputs/yolox_x_ablation/track_results_1/MOT17-13-FRCNN/MOT17-13-FRCNN_gt.json\n",
      "the first image is  /home/sophie/uncertain-identity-aware-tracking/Bytetrack/tools/datasets/mot/train/MOT17-13-FRCNN/img1/000374.jpg\n",
      "Video saved to /home/sophie/uncertain-identity-aware-tracking/Bytetrack/YOLOX_outputs/yolox_x_ablation/videos/MOT17-13-FRCNN/gt_video.mp4\n",
      "video done at /home/sophie/uncertain-identity-aware-tracking/Bytetrack/YOLOX_outputs/yolox_x_ablation/videos/MOT17-13-FRCNN/gt_annotated_video.mp4\n",
      "tracking saved at /home/sophie/uncertain-identity-aware-tracking/Bytetrack/YOLOX_outputs/yolox_x_ablation/track_results_1/MOT17-10-FRCNN/MOT17-10-FRCNN_gt.json\n",
      "tracking saved at /home/sophie/uncertain-identity-aware-tracking/Bytetrack/YOLOX_outputs/yolox_x_ablation/track_results_1/MOT17-10-FRCNN/MOT17-10-FRCNN_gt.json\n",
      "the first image is  /home/sophie/uncertain-identity-aware-tracking/Bytetrack/tools/datasets/mot/train/MOT17-10-FRCNN/img1/000326.jpg\n",
      "Video saved to /home/sophie/uncertain-identity-aware-tracking/Bytetrack/YOLOX_outputs/yolox_x_ablation/videos/MOT17-10-FRCNN/gt_video.mp4\n",
      "video done at /home/sophie/uncertain-identity-aware-tracking/Bytetrack/YOLOX_outputs/yolox_x_ablation/videos/MOT17-10-FRCNN/gt_annotated_video.mp4\n",
      "tracking saved at /home/sophie/uncertain-identity-aware-tracking/Bytetrack/YOLOX_outputs/yolox_x_ablation/track_results_1/MOT17-11-FRCNN/MOT17-11-FRCNN_gt.json\n",
      "tracking saved at /home/sophie/uncertain-identity-aware-tracking/Bytetrack/YOLOX_outputs/yolox_x_ablation/track_results_1/MOT17-11-FRCNN/MOT17-11-FRCNN_gt.json\n",
      "the first image is  /home/sophie/uncertain-identity-aware-tracking/Bytetrack/tools/datasets/mot/train/MOT17-11-FRCNN/img1/000449.jpg\n",
      "Video saved to /home/sophie/uncertain-identity-aware-tracking/Bytetrack/YOLOX_outputs/yolox_x_ablation/videos/MOT17-11-FRCNN/gt_video.mp4\n",
      "video done at /home/sophie/uncertain-identity-aware-tracking/Bytetrack/YOLOX_outputs/yolox_x_ablation/videos/MOT17-11-FRCNN/gt_annotated_video.mp4\n",
      "tracking saved at /home/sophie/uncertain-identity-aware-tracking/Bytetrack/YOLOX_outputs/yolox_x_ablation/track_results_1/MOT17-02-FRCNN/MOT17-02-FRCNN_gt.json\n",
      "tracking saved at /home/sophie/uncertain-identity-aware-tracking/Bytetrack/YOLOX_outputs/yolox_x_ablation/track_results_1/MOT17-02-FRCNN/MOT17-02-FRCNN_gt.json\n",
      "the first image is  /home/sophie/uncertain-identity-aware-tracking/Bytetrack/tools/datasets/mot/train/MOT17-02-FRCNN/img1/000299.jpg\n",
      "Video saved to /home/sophie/uncertain-identity-aware-tracking/Bytetrack/YOLOX_outputs/yolox_x_ablation/videos/MOT17-02-FRCNN/gt_video.mp4\n",
      "video done at /home/sophie/uncertain-identity-aware-tracking/Bytetrack/YOLOX_outputs/yolox_x_ablation/videos/MOT17-02-FRCNN/gt_annotated_video.mp4\n"
     ]
    }
   ],
   "source": [
    "\n",
    "#Transform Label images to video and get half video for the tracking\n",
    "base_path =\"/home/sophie/uncertain-identity-aware-tracking/Bytetrack/datasets/mot/train\"\n",
    "path = base_path\n",
    "folders = get_all_folders(path)\n",
    "print(folders)\n",
    "###########################\n",
    "######Treat a dataset #####\n",
    "###########################\n",
    "dataset_name = folders[0]\n",
    "for dataset_name in folders:\n",
    "    dataset_path = os.path.join(base_path,dataset_name)\n",
    "    #get tracking in the right format \n",
    "    gt_half_path=os.path.join(dataset_path,\"gt/gt_val_half.txt\")\n",
    "\n",
    "    ###no###################to remove one of the two when more time:\n",
    "\n",
    "    gt_json_format_path=os.path.join(\"/home/sophie/uncertain-identity-aware-tracking/Bytetrack/YOLOX_outputs/yolox_x_ablation/track_results_1\",dataset_name+\"/\"+dataset_name+\"_gt.json\")\n",
    "    tracking =convert_mot_format_to_json_format(gt_half_path,gt_json_format_path)\n",
    "    gt_json_format_path=os.path.join(\"/home/sophie/uncertain-identity-aware-tracking/Bytetrack/YOLOX_outputs/yolox_x_ablation/track_results_1\",dataset_name+\"/\"+dataset_name+\"_gt.json\")\n",
    "    tracking =convert_mot_format_to_json_format(gt_half_path,gt_json_format_path)\n",
    "    ############################################no\n",
    "    \n",
    "    #######################################\n",
    "    ######Store the empty half gt video####\n",
    "    #######################################\n",
    "    length_half =len (tracking.keys()) #length of the half\n",
    "    first_image_path = f'/home/sophie/uncertain-identity-aware-tracking/Bytetrack/tools/datasets/mot/train/{dataset_name}/img1/{length_half:06d}.jpg'\n",
    "    print(\"the first image is \", first_image_path)\n",
    "    output_video_dir=\"/home/sophie/uncertain-identity-aware-tracking/Bytetrack/YOLOX_outputs/yolox_x_ablation/videos/\"+dataset_name\n",
    "    os.makedirs(output_video_dir, exist_ok=True)\n",
    "    output_video_path = os.path.join(output_video_dir,\"gt_video.mp4\")\n",
    "    frame = cv2.imread(first_image_path)\n",
    "    height, width, _ = frame.shape\n",
    "    # Define the codec and create VideoWriter object\n",
    "    fourcc = cv2.VideoWriter_fourcc(*'mp4v')  # You can also use 'XVID' for .avi\n",
    "    video = cv2.VideoWriter(output_video_path, fourcc, 1, (width, height))\n",
    "    for i in  tracking.keys():\n",
    "        img_id = length_half+int(i)\n",
    "        img_path = f'/home/sophie/uncertain-identity-aware-tracking/Bytetrack/tools/datasets/mot/train/{dataset_name}/img1/{img_id:06d}.jpg'  # MOT17 images are typically named with 6 digits\n",
    "        frame = cv2.imread(img_path)\n",
    "        video.write(frame)\n",
    "\n",
    "    video.release()\n",
    "    print(f\"Video saved to {output_video_path}\")\n",
    "\n",
    "    ########################################\n",
    "    ####store the video with groundtruth####\n",
    "    ########################################\n",
    "    annotated_output_video_path = os.path.join(output_video_dir,\"gt_annotated_video.mp4\")\n",
    "    put_results_on_video (tracking, save_path=annotated_output_video_path,video_path=output_video_path )"
   ]
  },
  {
   "cell_type": "code",
   "execution_count": 12,
   "metadata": {},
   "outputs": [
    {
     "name": "stdout",
     "output_type": "stream",
     "text": [
      "tracking saved at /home/sophie/uncertain-identity-aware-tracking/Bytetrack/YOLOX_outputs/yolox_x_ablation/track_results_1/MOT17-04-FRCNN/MOT17-04-FRCNN_gt.json\n",
      "tracking saved at trash/trash.json\n",
      "tracking saved at /home/sophie/uncertain-identity-aware-tracking/Bytetrack/YOLOX_outputs/yolox_x_ablation/track_results_1/MOT17-09-FRCNN/MOT17-09-FRCNN_gt.json\n",
      "tracking saved at trash/trash.json\n",
      "tracking saved at /home/sophie/uncertain-identity-aware-tracking/Bytetrack/YOLOX_outputs/yolox_x_ablation/track_results_1/MOT17-05-FRCNN/MOT17-05-FRCNN_gt.json\n",
      "tracking saved at trash/trash.json\n",
      "tracking saved at /home/sophie/uncertain-identity-aware-tracking/Bytetrack/YOLOX_outputs/yolox_x_ablation/track_results_1/MOT17-13-FRCNN/MOT17-13-FRCNN_gt.json\n",
      "tracking saved at trash/trash.json\n",
      "tracking saved at /home/sophie/uncertain-identity-aware-tracking/Bytetrack/YOLOX_outputs/yolox_x_ablation/track_results_1/MOT17-10-FRCNN/MOT17-10-FRCNN_gt.json\n",
      "tracking saved at trash/trash.json\n",
      "tracking saved at /home/sophie/uncertain-identity-aware-tracking/Bytetrack/YOLOX_outputs/yolox_x_ablation/track_results_1/MOT17-11-FRCNN/MOT17-11-FRCNN_gt.json\n",
      "tracking saved at trash/trash.json\n",
      "tracking saved at /home/sophie/uncertain-identity-aware-tracking/Bytetrack/YOLOX_outputs/yolox_x_ablation/track_results_1/MOT17-02-FRCNN/MOT17-02-FRCNN_gt.json\n",
      "tracking saved at trash/trash.json\n"
     ]
    }
   ],
   "source": [
    "from Bytetrack_re_id_prev import produce_re_id_results \n",
    "\n",
    "def read_data(file):\n",
    "    #here we will go through detections of deepsort \n",
    "    import json\n",
    "    track={}\n",
    "    with open(file) as f:\n",
    "        json_file = json.load(f) \n",
    "\n",
    "    for frame, detections in json_file.items():\n",
    "        frame=int(frame)\n",
    "        track[frame]={}\n",
    "        for id, detection in detections.items():\n",
    "            track[frame][id]={}\n",
    "            track[frame][id][\"rectangle\"]= tuple(detection)\n",
    "\n",
    "    return track\n",
    "\n",
    "def read_data_for_video_generation(file):\n",
    "    #here we will go through detections of deepsort \n",
    "    import json\n",
    "    track={}\n",
    "    with open(file) as f:\n",
    "        json_file = json.load(f) \n",
    "\n",
    "    for frame, detections in json_file.items():\n",
    "        frame=str(frame)\n",
    "        track[frame]={}\n",
    "        for id, detection in detections.items():\n",
    "            track[frame][id]={}\n",
    "            track[frame][id]= tuple(detection)\n",
    "\n",
    "    return track\n",
    "\n",
    "def iou (boxA,boxB):\n",
    "    boxA=[boxA[0],boxA[1],boxA[0]+boxA[2],boxA[1]+boxA[3]]\n",
    "    boxB=[boxB[0],boxA[1],boxB[0]+boxB[2],boxB[1]+boxB[3]]\n",
    "    xA = max(boxA[0], boxB[0])\n",
    "    yA = max(boxA[1], boxB[1])\n",
    "    xB = min(boxA[2], boxB[2])\n",
    "    yB = min(boxA[3], boxB[3])\n",
    "    # compute the area of intersection rectangle\n",
    "    interArea = max(0, xB - xA + 1) * max(0, yB - yA + 1)\n",
    "    # compute the area of both the prediction and ground-truth\n",
    "    # rectangles\n",
    "    boxAArea = abs((boxA[2] - boxA[0] + 1) * (boxA[3] - boxA[1] + 1))\n",
    "    boxBArea = abs((boxB[2] - boxB[0] + 1) * (boxB[3] - boxB[1] + 1))\n",
    "    # compute the intersection over union by taking the intersection\n",
    "    # area and dividing it by the sum of prediction + ground-truth\n",
    "    # areas - the interesection area\n",
    "    iou = interArea / float(boxAArea + boxBArea - interArea)\n",
    "    return iou  #np.linalg.norm(np.array([float(track[0]), float(track[1])+float(track[3])/2])-np.array([600,17.5]))\n",
    "\n",
    "\n",
    "\n",
    "def evaluate (tracks,track_result, limit=float(\"inf\"),column_indice= \"model\") :\n",
    "    acc = mm.MOTAccumulator(auto_id=False)\n",
    "    for key in sorted(tracks.keys()):\n",
    "        track=tracks[key]\n",
    "        if key in  track_result.keys()  :\n",
    "            frame_detection=track_result[key]\n",
    "            real_animals=np.array([list(individual[\"rectangle\"]) for individual  in list(track.values())])\n",
    "            hypothesis_animal= np.array([list(individual[\"rectangle\"]) for individual  in list(frame_detection.values())])\n",
    "            #print(real_animals, \"*****\", hypothesis_animal)\n",
    "            distances = mm.distances.iou_matrix(real_animals, hypothesis_animal, max_iou=0.75)\n",
    "            #print(\"deepsort\",hypothesis_animal)\n",
    "            #print(\"real\",real_animals)\n",
    "            #print(distances)\n",
    "            #print(real_animals)\n",
    "            \"\"\"try:\n",
    "                print(\"****\",acc,)\n",
    "                acc.update([float(key1) for key1 in list(track.keys())],[ 100000+float(re.search(r'^\\d+', key1)[0]) for key1 in frame_detection.keys()],distances, frameid=int(key))\n",
    "            except Exception as e :\n",
    "                print(\"***\",e)\n",
    "                for key1 in list(frame_detection.keys()):\n",
    "                    print(key1)# re.search(r'^\\d+', key1))\n",
    "                return 0\"\"\"\n",
    "            acc.update([float(key1) for key1 in list(track.keys())],[ float(re.search(r'^\\d+', key1)[0]) for key1 in frame_detection.keys()],distances, frameid=int(key))\n",
    "        if int(key)>= limit:\n",
    "              break\n",
    "    \n",
    "\n",
    "    mh = mm.metrics.create()\n",
    "    summary = mh.compute_many(\n",
    "        [acc],\n",
    "        #[acc_deepsort, acc_deeplabcut],\n",
    "        #metrics=mm.metrics.motchallenge_metrics,\n",
    "        #metrics=['idf1','num_frames', 'mota', 'motp'],\n",
    "        names=[\"model_name\"], #['deepsort','deeplabcut'],\n",
    "        generate_overall=True\n",
    "        )\n",
    "\n",
    "    strsummary = mm.io.render_summary(\n",
    "        summary,\n",
    "        formatters=mh.formatters,\n",
    "        namemap=mm.io.motchallenge_metric_names\n",
    "    )\n",
    "    #print(\"cumulative summary o\")\n",
    "    #print(strsummary)\n",
    "    #print(summary.columns)\n",
    "\n",
    "    idf1=summary[\"idf1\"].loc[\"model_name\"]\n",
    "    \"\"\"for col in summary.columns:\n",
    "        summary.columns = summary.columns.str.replace(col, col+'_'+column_indice)\"\"\"\n",
    "\n",
    "    return idf1\n",
    "\n",
    "\n",
    "def precise_accuracy_track(label_track, model_track, basic_tracker=False,gt_base_number =-2):#4800):\n",
    "    \"\"\"cette fonction calcule le f1-score recall, accuracy des model par rapport au background\n",
    "    dedans, les score des trackers et des hMM based tracker sont calculés différemment car quand le hmm based tracker est seuillé, \n",
    "    il y'a des id de track qu'il ne retourne pas dans son fichier de resultat.\n",
    "\n",
    "    Args:\n",
    "        label_track (_type_): _description_\n",
    "        model_track (_type_): _description_\n",
    "        basic_tracker (bool, optional): _description_. Defaults to False.\n",
    "\n",
    "    Returns:\n",
    "        _type_: _description_\n",
    "    \"\"\"\n",
    "    \n",
    "    idf1 = evaluate(label_track,model_track)\n",
    "    \n",
    "    start=True \n",
    "    nbr_frame=0\n",
    "    nbr_frame_acc=0\n",
    "    acc =0\n",
    "    rec=0\n",
    "    \"\"\"if basic_tracker==True:\n",
    "        matching={}\n",
    "        for frame_id in label_track.keys():\n",
    "            for label_atq, label_box in label_track[frame_id].items() : \n",
    "                if label_atq not in matching.keys() and label_atq!=\"observed\":\n",
    "                    matching[label_atq]=None \n",
    "                    break\"\"\"\n",
    "            \n",
    "    \n",
    "    def match_track_and_atq(label_track, model_track):\n",
    "            \n",
    "            matching={}\n",
    "            label_track_only_concerned = {}\n",
    "            for frame_id in label_track.keys():\n",
    "                label_track_only_concerned[frame_id]= {}\n",
    "                if frame_id in model_track.keys() :\n",
    "                    for label_atq, label_box in label_track[frame_id].items() : \n",
    "                        if float(label_atq)>gt_base_number:\n",
    "                            label_track_only_concerned[frame_id][label_atq] = label_track[frame_id][label_atq]\n",
    "                            \n",
    "                        if label_atq not in matching.keys():\n",
    "                            max_iou=float('-inf')\n",
    "                            for model_atq, model_box in model_track[frame_id].items(): \n",
    "                                #print(model_atq)\n",
    "                                if  label_atq!=\"observed\" and model_atq!=\"observed\":#fix the problem with the obseved on the label \n",
    "                                    \n",
    "                                    \"\"\"if str(model_atq)==str(label_atq):\n",
    "                                        print(model_atq, model_box[\"rectangle\"], label_box[\"rectangle\"])\n",
    "                                    \"\"\"\n",
    "                                    \n",
    "                                    tmp = iou(model_box[\"rectangle\"], label_box[\"rectangle\"])\n",
    "                                    if tmp>=max_iou:\n",
    "                                        matching [label_atq]=model_atq\n",
    "                                        max_iou =tmp\n",
    "                \n",
    "                if len(matching.keys())== len(label_track[frame_id].keys()):\n",
    "                    break\n",
    "            return label_track_only_concerned , {value:key for key, value in matching.items() if float(key)>gt_base_number}\n",
    "    \n",
    "    \n",
    "    if basic_tracker==True:\n",
    "        label_tracki, matching = match_track_and_atq(label_track, model_track)\n",
    "    else:\n",
    "        min_frame =min([int(i) for i in list(label_track.keys())])\n",
    "        matching= {k:k for k in label_track[min_frame].keys() if  'identities' not in k and float(k)>gt_base_number}\n",
    "    for frame_id in label_track.keys() :\n",
    "        if frame_id in model_track.keys() :\n",
    "            nbr_frame+=1\n",
    "            matching_frame={}\n",
    "            taken_atq=[]\n",
    "            remaining_atq=[label_atq for label_atq in label_track[frame_id].keys()]\n",
    "            for model_atq, model_box in model_track[frame_id].items() :\n",
    "                    max_iou=0\n",
    "                    atq_matching_model =None\n",
    "                    for  label_atq, label_box in label_track[frame_id].items():\n",
    "                        if  label_atq!=\"observed\" and model_atq!=\"observed\" :#fix the problem with the obseved on the label \n",
    "                            tmp = iou(model_box[\"rectangle\"], label_box[\"rectangle\"])\n",
    "                            if tmp>max_iou and label_atq not in taken_atq:\n",
    "                                max_iou =tmp\n",
    "                                atq_matching_model = label_atq\n",
    "                    if atq_matching_model is not None:\n",
    "                        taken_atq.append(atq_matching_model)\n",
    "                                \n",
    "                    #if basic_tracker==True:\n",
    "                    if model_atq in matching.keys(): #ca c'est pour les modèles qui crèent trop de nouvelles identités\n",
    "                            matching_frame[matching[model_atq] ]=atq_matching_model \n",
    "                    else:\n",
    "                        if basic_tracker:\n",
    "                            if atq_matching_model not in matching.values():\n",
    "                                #print(atq_matching_model,\"new atq at frameid:\", frame_id,\"for track_id\",model_atq, matching)\n",
    "                                #the atq could be assign to a new model identity\n",
    "                                matching[model_atq ]=atq_matching_model \n",
    "                                matching_frame[matching[model_atq] ]=atq_matching_model \n",
    "                            else:\n",
    "                                #remettreprint(atq_matching_model, 'atq could not be assigne to the model id :',model_atq)\n",
    "                                matching_frame[model_atq ]=None\n",
    "                        else:\n",
    "                            #matching[atq_matching_model ]=atq_matching_model\n",
    "                            matching[model_atq ]=model_atq \n",
    "                            matching_frame[matching[model_atq] ]=atq_matching_model\n",
    "            remaining_atq =list( set( remaining_atq) -  set(taken_atq))\n",
    "            \n",
    "                                    \n",
    "            filtered ={key:value for key,value in matching_frame.items() if value==key }\n",
    "            \n",
    "            if len(matching_frame.keys())!=0:\n",
    "                nbr_frame_acc+=1\n",
    "                #print(frame_id, \"(\",len(label_track[frame_id]),\")\",len(matching_frame), (len([label_atq  for label_atq in matching_frame.values() if label_atq is not None]) + len(remaining_atq)), matching_frame)\n",
    "                acc = acc + len(filtered.keys())/ len(matching_frame.keys())\n",
    "                rec = rec+ len(filtered.keys())/ (len([label_atq  for label_atq in matching_frame.values() if label_atq is not None]) + len(remaining_atq))\n",
    "                if len(filtered.keys())/ len(label_track[frame_id].keys())>1:\n",
    "                    print(len(filtered.keys()), len(label_track[frame_id].keys()))\n",
    "                    print(\"stop\")\n",
    "        else:\n",
    "            print(\"weird thing\", frame_id, \"not in model_track\")#, model_track.keys())\n",
    "\n",
    "    \n",
    "    acc = acc/nbr_frame_acc\n",
    "    rec=rec/nbr_frame\n",
    "    print(acc, rec) \n",
    "\n",
    "    f1=2*acc*rec/(acc+rec)\n",
    "    return acc  , rec , f1  , idf1 \n",
    "               \n",
    "                           \n",
    "\n",
    "\n",
    "def put_val_half_tracking(file_path, dataset_name=\"\"): \n",
    "    base_path =\"/home/sophie/uncertain-identity-aware-tracking/Bytetrack/datasets/mot/train\"\n",
    "    dataset_path = os.path.join(base_path,dataset_name)\n",
    "    \n",
    "    gt_half_path=os.path.join(dataset_path,\"gt/gt_val_half.txt\")\n",
    "\n",
    "    gt_json_format_path=os.path.join(\"/home/sophie/uncertain-identity-aware-tracking/Bytetrack/YOLOX_outputs/yolox_x_ablation/track_results_1\",dataset_name+\"/\"+dataset_name+\"_gt.json\")\n",
    "    tracking_half =convert_mot_format_to_json_format(gt_half_path,gt_json_format_path)\n",
    "    tracking_complete =convert_mot_format_to_json_format(os.path.join(dataset_path,\"gt/gt.txt\"),'trash/trash.json')\n",
    "\n",
    "    start_half = len(tracking_complete.keys()) -  len(tracking_half.keys()) -1\n",
    "    #######################################\n",
    "    ######Store the empty half gt video####\n",
    "    #######################################\n",
    "    #length_half =len (tracking.keys()) #length of the half\n",
    "    new_track={}\n",
    "    with open(file_path, \"r\") as file:\n",
    "        track = json.load(file)\n",
    "    #last_frame =int(sorted( [int(i) for i in track.keys()] )[-1])\n",
    "    #print(last_frame)\n",
    "    #half_frame=int(last_frame/2)\n",
    "    for new_key in range (len(tracking_half.keys()) ):\n",
    "        new_track[str(new_key)] = track[str(new_key+start_half)]\n",
    "        #print(len(new_track[str(new_key)] [\"previous\"]), len(new_track[str(new_key)] [\"current\"]), np.array(new_track[str(new_key)] [\"matrice\"]).shape)\n",
    "\n",
    "        \"\"\"for id , indiv in enumerate(new_track[str(new_key)] [\"current\"]):\n",
    "            new_track[str(new_key)] [\"current\"][id][\"detection_feat\"]=0\n",
    "        for id, indiv in enumerate(new_track[str(new_key)] [\"previous\"]):\n",
    "            new_track[str(new_key)] [\"previous\"][id][\"detection_feat\"]=0\"\"\"\n",
    "    with open(file_path.split(\".json\")[0]+\"_DBN_result_half_val.json\", \"w\") as file:\n",
    "        json.dump(new_track, file)\n",
    "    \n",
    "    \n",
    "    file_path = '/home/sophie/uncertain-identity-aware-tracking/Bytetrack/YOLOX_outputs/fairmot_json_files_hmm_format/'+dataset_name.split(\"FRCNN\")[0]+\"SDP.json\"\n",
    "    new_track={}\n",
    "    with open(file_path, \"r\") as file:\n",
    "        track = json.load(file)\n",
    "        \n",
    "    for new_key in range (len(tracking_half.keys()) ):\n",
    "        new_track[str(new_key)] = track[str(new_key+start_half)]\n",
    "        #print(len(new_track[str(new_key)] [\"previous\"]), len(new_track[str(new_key)] [\"current\"]), np.array(new_track[str(new_key)] [\"matrice\"]).shape)\n",
    "    with open(file_path.split(\".json\")[0]+\"_half_val.json\", \"w\") as file:\n",
    "        json.dump(new_track, file)\n",
    "    \n",
    "    \n",
    "        \n",
    "def generate_tracking_result_from_observation(dbn_file, tracking_result_file):\n",
    "    with open(dbn_file,\"r\") as file:\n",
    "        data=json.load(file)\n",
    "    result_track={}\n",
    "\n",
    "    for frame_id,content in  data.items():\n",
    "        result_track[str(frame_id)]={}\n",
    "        for track in content[\"current\"]:\n",
    "            track_id= track[\"track_id\"]\n",
    "            if track_id is not None:\n",
    "                result_track[str(frame_id)][track_id]=track[\"location\"]\n",
    "                \n",
    "    with open(tracking_result_file, \"w\") as file:\n",
    "        json.dump(result_track, file)\n",
    "    print(\"tracking saved at\", tracking_result_file)\n",
    "home_folder = \"/home/sophie/uncertain-identity-aware-tracking/Bytetrack/\"\n",
    "\n",
    "for dataset_name in folders:\n",
    "    #dataset_name = \"MOT17-04-FRCNN\"\n",
    "    base_path= home_folder+\"YOLOX_outputs/yolox_x_ablation/track_results/\"+dataset_name+\"/fairmot/\"+dataset_name.split(\"-\")[0]+\"-\"+dataset_name.split(\"-\")[1]+\"-SDP\"\n",
    "    os.makedirs(base_path, exist_ok=True)\n",
    "    gt_video=\"/home/sophie/uncertain-identity-aware-tracking/Bytetrack/YOLOX_outputs/yolox_x_ablation/videos/\"+dataset_name+\"/gt_video.mp4\"  \n",
    "    tracker_video = gt_video.split(\"gt_video\")[0]+\"fairmot_tracking.mp4\"\n",
    "    #dbn_file= \"/home/sophie/uncertain-identity-aware-tracking/Bytetrack/YOLOX_outputs/yolox_x_ablation/track_results/\"+dataset_name+\"/fairmot/\"+dataset_name.split(\"-\")[0]+\"-\"+dataset_name.split(\"-\")[1]+\"-SDP.json\"\n",
    "    dbn_file=\"/home/sophie/uncertain-identity-aware-tracking/Bytetrack/YOLOX_outputs/yolox_x_ablation/track_results_1/FairMOT/\"+dataset_name.split(\"-\")[0]+\"-\"+dataset_name.split(\"-\")[1]+\"-SDP.json\"\n",
    "    #\"/home/sophie/uncertain-identity-aware-tracking/Bytetrack/YOLOX_outputs/yolox_x_ablation/track_results/MOT17-04-FRCNN/fairmot/fairmot_MOT17_04.json\"\n",
    "    put_val_half_tracking(dbn_file, dataset_name)\n",
    "    continue \n",
    "\n",
    "\n",
    "    dbn_file= dbn_file.split(\".json\")[0]+\"_DBN_result_half_val.json\"\n",
    "    track_file=base_path+\"_tracking_result.json\"\n",
    "    tracking_result_file=track_file\n",
    "    generate_tracking_result_from_observation(dbn_file, tracking_result_file)\n",
    "    #put_results_on_video (read_data_for_video_generation(tracking_result_file), save_path=gt_video.split(\"gt_video\")[0]+\"fairmot_tracking.mp4\",video_path=gt_video )\n",
    "    length_half = len(read_data_for_video_generation(tracking_result_file).keys())\n",
    "    \n",
    "    \n",
    "    def score_for_various_artificial_observations_mot():\n",
    "\n",
    "        hmm_result_with_visits=pd.DataFrame(columns=[\"nbr of visits\", \"accuracy\", \"recall\", \"f1\"])\n",
    "        re_id_result_with_visits=pd.DataFrame(columns=[\"nbr of visits\", \"accuracy\", \"recall\", \"f1\"])\n",
    "        tracker_result_score= pd.DataFrame(columns=[\"nbr of visits\", \"accuracy\", \"recall\", \"f1\"])\n",
    "        #add error bar here \n",
    "        for j in range(0,1):\n",
    "\n",
    "            for i in range (2, length_half , 20):# range (2, 200 , 10): #[10, 100]:#  [18]: # len(label_track.keys())            \n",
    "                #home_folder=home_folder#''#/home/sophie/uncertain-identity-aware-tracking/Bytetrack/'\n",
    "                observation_file=base_path+\"_DBN_result_with_observations_visits_per_id.json\"\n",
    "                gt_path=os.path.join(\"/home/sophie/uncertain-identity-aware-tracking/Bytetrack/YOLOX_outputs/yolox_x_ablation/track_results\",dataset_name+\"/\"+dataset_name+\"_gt.json\")\n",
    "                video_path=gt_video\n",
    "                # '/home/sophie/uncertain-identity-aware-tracking/Bytetrack/YOLOX_outputs/yolox_x_ablation/videos/MOT17-04-FRCNN.mp4'  \n",
    "\n",
    "                #convert_mot_format_to_json_format(gt_path='/home/sophie/uncertain-identity-aware-tracking/Bytetrack/datasets/mot/train/MOT17-04-FRCNN/gt/gt_val_half.txt',\n",
    "                #                          destination_path=gt_path )\n",
    "                adding_atq(nbr_visit=0, output_file=observation_file, feeder=False, \n",
    "                            track_file=tracking_result_file,#****replace with tracking of fairmot\n",
    "                            dbn_file= dbn_file,\n",
    "                            labels_file=gt_path,\n",
    "                        is_it_random = False, model=False,curated_artificial_visit=i, fairmot=True)\n",
    "                \n",
    "                Hmm_result_file=base_path+\"_with_atq_tracking_with_HMM_result_per_id.json\"\n",
    "                #Hmm_result_file = \"/home/sophie/uncertain-identity-aware-tracking/Bytetrack/YOLOX_outputs/yolox_x_ablation/track_results/MOT17-02-FRCNN_tracking_result.json\"\n",
    "                print(\"start forward backward\")\n",
    "                process_forwad_backward(observation_file,nbr_visit=\"per_id_2_\", pigs_HMM=False, json_save_path=Hmm_result_file, video_path=video_path)\n",
    "                print(\"end forward backward\")\n",
    "                hmm_track = read_data(Hmm_result_file)\n",
    "                print(\"end forward backward2\", hmm_track.keys())\n",
    "\n",
    "                label_track = read_data(gt_path)\n",
    "                acc, rec, f1, idf1= precise_accuracy_track(label_track, hmm_track, gt_base_number=0, basic_tracker=True)\n",
    "                new_row= {'nbr of visits':i, 'accuracy':acc, 'recall':rec, \"f1\":f1, \"idf1\":idf1}\n",
    "                \n",
    "                print(\"****HMM\")\n",
    "                print(new_row)\n",
    "                hmm_result_with_visits = pd.concat([hmm_result_with_visits, pd.DataFrame([new_row])], ignore_index=True)\n",
    "                hmm_result_with_visits.to_csv(base_path+'accuracy_over_nbr_of_visits_with_track_helping.csv')\n",
    "\n",
    "                        \n",
    "                \n",
    "\n",
    "                ####Re_id_part of the work\n",
    "                re_id_track_result_file = base_path+\"_per_id_re_id.json\"\n",
    "                re_id_tracking_result =produce_re_id_results(track_with_observation_file =observation_file , re_id_track_result_file = re_id_track_result_file )\n",
    "                re_id_track = read_data(re_id_track_result_file)\n",
    "                print(\"***Oki before re_id_accuracy\",re_id_tracking_result.keys())\n",
    "                acc, rec, f1,idf1= precise_accuracy_track(label_track, re_id_track,  gt_base_number=-2,basic_tracker=True)\n",
    "                new_row= {'nbr of visits':i, 'accuracy':acc, 'recall':rec, \"f1\":f1, \"idf1\":idf1}\n",
    "                print(new_row)\n",
    "                re_id_result_with_visits = pd.concat([re_id_result_with_visits, pd.DataFrame([new_row])], ignore_index=True)\n",
    "                \n",
    "                re_id_result_with_visits.to_csv(base_path+'accuracy_Re_id_over_nbr_of_visits_with_track_helping.csv')\n",
    "                put_results_on_video ( re_id_tracking_result , save_path= gt_video.split(\"gt_video\")[0]+\"re_id_video.mp4\" , video_path=gt_video)\n",
    "\n",
    "                ########Tracker result\n",
    "                tracking_result = read_data(tracking_result_file)\n",
    "                print(\"***tracker***\",tracking_result.keys())\n",
    "                acc, rec, f1,idf1= precise_accuracy_track(label_track, tracking_result,  gt_base_number=-2,basic_tracker=True)\n",
    "                new_row= {'nbr of visits':i, 'accuracy':acc, 'recall':rec, \"f1\":f1, \"idf1\":idf1}\n",
    "                print(new_row)\n",
    "                tracker_result_score = pd.concat([tracker_result_score, pd.DataFrame([new_row])], ignore_index=True)\n",
    "                \n",
    "                tracker_result_score.to_csv(base_path+'tracking_fairmot.csv')\n",
    "                \n",
    "        print(\"hmm\",hmm_result_with_visits)        \n",
    "        print(\"re_id\",re_id_result_with_visits)\n",
    "        print(\"tracker\",tracker_result_score)        \n",
    "        \n",
    "\n",
    "    score_for_various_artificial_observations_mot()\n",
    "    break\n",
    "    "
   ]
  },
  {
   "cell_type": "markdown",
   "metadata": {},
   "source": [
    "Vizualization code\n",
    "\n",
    "there were an id switch at frame  41  between 556 and None\n",
    "there were an id switch at frame  44  between None and 556\n",
    "there were an id switch at frame  47  between 556 and None\n",
    "there were an id switch at frame  244  between 628 and None\n",
    "there were an id switch at frame  249  between None and 660\n",
    "there were an id switch at frame  256  between 642 and 656\n",
    "there were an id switch at frame  260  between 660 and 655\n",
    "there were an id switch at frame  302  between 660 and None\n",
    "re-id is done"
   ]
  },
  {
   "cell_type": "code",
   "execution_count": 22,
   "metadata": {},
   "outputs": [],
   "source": [
    "\n",
    "import plotly.graph_objs as go\n",
    "def draw_graph(hmm_based, re_id, dataset_name=\"\"):\n",
    "    artificial_hmm = pd.read_csv(hmm_based)\n",
    "    artificial_re_id= pd.read_csv(re_id)\n",
    "    metric=\"idf1\"\n",
    "    print(artificial_hmm)\n",
    "    all = []\n",
    "    for nbr_visit in np.unique(artificial_hmm[\"nbr of visits\"]):\n",
    "        mean = artificial_hmm[artificial_hmm[\"nbr of visits\"]==nbr_visit].mean()[metric]\n",
    "        std = artificial_hmm[artificial_hmm[\"nbr of visits\"]==nbr_visit].std()[metric]\n",
    "        all.append({\"nbr of visits\":nbr_visit,\"mean f1\":mean, \"std f1\":std})\n",
    "    artificial_hmm_c =pd.DataFrame(all)\n",
    "\n",
    "    all = []\n",
    "    for nbr_visit in np.unique(artificial_re_id[\"nbr of visits\"]):\n",
    "        mean = artificial_re_id[artificial_re_id[\"nbr of visits\"]==nbr_visit].mean()[metric]\n",
    "        std = artificial_re_id[artificial_re_id[\"nbr of visits\"]==nbr_visit].std()[metric]\n",
    "        all.append({\"nbr of visits\":nbr_visit,\"mean f1\":mean, \"std f1\":std})\n",
    "    artificial_re_id_c =pd.DataFrame(all)\n",
    "\n",
    "\n",
    "    fig1 = go.Figure()\n",
    "    fig1.add_trace(go.Scatter(x=artificial_hmm_c[\"nbr of visits\"], y=artificial_hmm_c[\"mean f1\"],\n",
    "                        mode='lines',\n",
    "                        name='HMM based tracker',\n",
    "                        line_color=\"#0000ff\"\n",
    "                        ))\n",
    "    \"\"\"fig.add_trace(go.Scatter(x=artificial_re_id[\"nbr of visits\"], y=artificial_re_id[\"f1\"],\n",
    "                        mode='lines',\n",
    "                        name='Tracker with Re_id',\n",
    "                        #line_color=\"#0000ff\"\n",
    "                        ))\"\"\"\n",
    "    fig1.update_layout(\n",
    "                xaxis_title=\"number of visits\",\n",
    "                yaxis_title='f1 score',)\n",
    "\n",
    "    df = artificial_hmm_c\n",
    "    df2 = artificial_re_id_c\n",
    "    fig = go.Figure([\n",
    "        go.Scatter(\n",
    "            name='Track with HMM',\n",
    "            x=df['nbr of visits'],\n",
    "            y=df['mean f1'],\n",
    "            mode='lines',\n",
    "            #line=dict(color='rgb(31, 119, 180)'),\n",
    "        ),\n",
    "        go.Scatter(\n",
    "            name='Upper Bound',\n",
    "            x=df['nbr of visits'],\n",
    "            y=df['mean f1']+df['std f1'],\n",
    "            mode='lines',\n",
    "            marker=dict(color=\"#444\"),\n",
    "            line=dict(width=0),\n",
    "            showlegend=False\n",
    "        ),\n",
    "        go.Scatter(\n",
    "            name='Lower Bound',\n",
    "            x=df['nbr of visits'],\n",
    "            y=df['mean f1']-df['std f1'],\n",
    "            marker=dict(color=\"#444\"),\n",
    "            line=dict(width=0),\n",
    "            mode='lines',\n",
    "            fillcolor='rgba(68, 68, 68, 0.3)',\n",
    "            fill='tonexty',\n",
    "            showlegend=False\n",
    "        ), \n",
    "        \n",
    "        \n",
    "        \n",
    "        \n",
    "        go.Scatter(\n",
    "            name='Track with Re-id',\n",
    "            x=df2['nbr of visits'],\n",
    "            y=df2['mean f1'],\n",
    "            mode='lines',\n",
    "            #line=dict(color='rgb(31, 119, 180)'),\n",
    "        ),\n",
    "        go.Scatter(\n",
    "            name='Upper Bound',\n",
    "            x=df2['nbr of visits'],\n",
    "            y=df2['mean f1']+df['std f1'],\n",
    "            mode='lines',\n",
    "            marker=dict(color=\"#444\"),\n",
    "            line=dict(width=0),\n",
    "            showlegend=False\n",
    "        ),\n",
    "        go.Scatter(\n",
    "            name='Lower Bound',\n",
    "            x=df2['nbr of visits'],\n",
    "            y=df2['mean f1']-df['std f1'],\n",
    "            line=dict(width=0),\n",
    "            mode='lines',\n",
    "            fillcolor='rgba(68, 68, 68, 0.3)',\n",
    "            fill='tonexty',\n",
    "            marker=dict(color=\"#444\"),\n",
    "\n",
    "            showlegend=False\n",
    "        ), \n",
    "        \n",
    "        \n",
    "    ])\n",
    "    fig.update_layout(\n",
    "                xaxis_title=\"number of visits\",\n",
    "                yaxis_title=metric+'score',\n",
    "        title=dataset_name+': '+metric+' score over time with 25% of observations being random  (20 repetitions)',\n",
    "        hovermode=\"x\" ) \n",
    "\n",
    "    fig.show()\n"
   ]
  },
  {
   "cell_type": "code",
   "execution_count": 23,
   "metadata": {},
   "outputs": [
    {
     "name": "stdout",
     "output_type": "stream",
     "text": [
      "    Unnamed: 0  nbr of visits  accuracy    recall        f1      idf1\n",
      "0            0              2  0.288992  0.055600  0.093258  0.230592\n",
      "1            1             22  0.407421  0.154690  0.224240  0.443237\n",
      "2            2             42  0.486966  0.191185  0.274572  0.475225\n",
      "3            3             62  0.499081  0.197668  0.283179  0.496068\n",
      "4            4             82  0.529509  0.210641  0.301388  0.506903\n",
      "5            5            102  0.498503  0.200230  0.285703  0.494236\n",
      "6            6            122  0.557318  0.223062  0.318605  0.518635\n",
      "7            7            142  0.538273  0.215148  0.307420  0.514423\n",
      "8            8            162  0.595025  0.236258  0.338223  0.512497\n",
      "9            9            182  0.513384  0.206968  0.295006  0.519918\n",
      "10          10            202  0.558117  0.223469  0.319150  0.530555\n",
      "11          11            222  0.553980  0.221153  0.316112  0.522581\n",
      "12          12            242  0.523994  0.211594  0.301457  0.525875\n",
      "13          13            262  0.568368  0.224974  0.322353  0.518898\n",
      "14          14            282  0.535031  0.215361  0.307106  0.522695\n",
      "15          15            302  0.504900  0.203689  0.290274  0.524041\n",
      "16          16            322  0.529097  0.211466  0.302165  0.531388\n",
      "17          17            342  0.546230  0.219702  0.313365  0.530002\n",
      "18          18            362  0.544570  0.218915  0.312291  0.530180\n",
      "19          19            382  0.553892  0.221599  0.316553  0.530373\n",
      "20          20            402  0.533587  0.213394  0.304865  0.531372\n",
      "21          21            422  0.558977  0.223505  0.319328  0.531592\n",
      "22          22            442  0.520983  0.209437  0.298768  0.530877\n",
      "23          23            462  0.546460  0.219779  0.313480  0.531056\n",
      "24          24            482  0.554571  0.221120  0.316174  0.530870\n",
      "25          25            502  0.554183  0.221002  0.315990  0.531029\n",
      "26          26            522  0.554229  0.221010  0.316007  0.531029\n"
     ]
    },
    {
     "data": {
      "application/vnd.plotly.v1+json": {
       "config": {
        "plotlyServerURL": "https://plot.ly"
       },
       "data": [
        {
         "mode": "lines",
         "name": "Track with HMM",
         "type": "scatter",
         "x": [
          2,
          22,
          42,
          62,
          82,
          102,
          122,
          142,
          162,
          182,
          202,
          222,
          242,
          262,
          282,
          302,
          322,
          342,
          362,
          382,
          402,
          422,
          442,
          462,
          482,
          502,
          522
         ],
         "y": [
          0.2305923301634657,
          0.4432368923483624,
          0.4752245957276901,
          0.496068430559983,
          0.506902908372346,
          0.4942359480505697,
          0.5186354351805184,
          0.5144228856381216,
          0.5124973466355338,
          0.51991831105453,
          0.5305554082011564,
          0.522581073015452,
          0.5258746452348744,
          0.5188981081978095,
          0.5226953176813901,
          0.5240413311933785,
          0.5313880230784535,
          0.5300015915963712,
          0.5301802458983779,
          0.5303729640829752,
          0.5313722629673346,
          0.5315915119363396,
          0.5308769696005093,
          0.5310556122922663,
          0.5308699285117445,
          0.531029086037906,
          0.531029086037906
         ]
        },
        {
         "line": {
          "width": 0
         },
         "marker": {
          "color": "#444"
         },
         "mode": "lines",
         "name": "Upper Bound",
         "showlegend": false,
         "type": "scatter",
         "x": [
          2,
          22,
          42,
          62,
          82,
          102,
          122,
          142,
          162,
          182,
          202,
          222,
          242,
          262,
          282,
          302,
          322,
          342,
          362,
          382,
          402,
          422,
          442,
          462,
          482,
          502,
          522
         ],
         "y": [
          null,
          null,
          null,
          null,
          null,
          null,
          null,
          null,
          null,
          null,
          null,
          null,
          null,
          null,
          null,
          null,
          null,
          null,
          null,
          null,
          null,
          null,
          null,
          null,
          null,
          null,
          null
         ]
        },
        {
         "fill": "tonexty",
         "fillcolor": "rgba(68, 68, 68, 0.3)",
         "line": {
          "width": 0
         },
         "marker": {
          "color": "#444"
         },
         "mode": "lines",
         "name": "Lower Bound",
         "showlegend": false,
         "type": "scatter",
         "x": [
          2,
          22,
          42,
          62,
          82,
          102,
          122,
          142,
          162,
          182,
          202,
          222,
          242,
          262,
          282,
          302,
          322,
          342,
          362,
          382,
          402,
          422,
          442,
          462,
          482,
          502,
          522
         ],
         "y": [
          null,
          null,
          null,
          null,
          null,
          null,
          null,
          null,
          null,
          null,
          null,
          null,
          null,
          null,
          null,
          null,
          null,
          null,
          null,
          null,
          null,
          null,
          null,
          null,
          null,
          null,
          null
         ]
        },
        {
         "mode": "lines",
         "name": "Track with Re-id",
         "type": "scatter",
         "x": [
          2,
          22,
          42,
          62,
          82,
          102,
          122,
          142,
          162,
          182,
          202,
          222,
          242,
          262,
          282,
          302,
          322,
          342,
          362,
          382,
          402,
          422,
          442,
          462,
          482,
          502,
          522
         ],
         "y": [
          0.55642177589852,
          0.5566067653276956,
          0.5401357484023762,
          0.5478546982570662,
          0.5389864193441537,
          0.5371896446646705,
          0.5328364914506197,
          0.5341291056824498,
          0.5314077509108976,
          0.5349425683284535,
          0.5325658330025143,
          0.5209014278341648,
          0.5282377919320594,
          0.5267499535821331,
          0.514058793742171,
          0.5221040330398523,
          0.5199276807317008,
          0.5221710203051753,
          0.5154923965734777,
          0.5159756712969111,
          0.5077975303385139,
          0.5095695368636357,
          0.5059859529637118,
          0.516153058374453,
          0.5061379916384843,
          0.5130813372921299,
          0.5061447307103388
         ]
        },
        {
         "line": {
          "width": 0
         },
         "marker": {
          "color": "#444"
         },
         "mode": "lines",
         "name": "Upper Bound",
         "showlegend": false,
         "type": "scatter",
         "x": [
          2,
          22,
          42,
          62,
          82,
          102,
          122,
          142,
          162,
          182,
          202,
          222,
          242,
          262,
          282,
          302,
          322,
          342,
          362,
          382,
          402,
          422,
          442,
          462,
          482,
          502,
          522
         ],
         "y": [
          null,
          null,
          null,
          null,
          null,
          null,
          null,
          null,
          null,
          null,
          null,
          null,
          null,
          null,
          null,
          null,
          null,
          null,
          null,
          null,
          null,
          null,
          null,
          null,
          null,
          null,
          null
         ]
        },
        {
         "fill": "tonexty",
         "fillcolor": "rgba(68, 68, 68, 0.3)",
         "line": {
          "width": 0
         },
         "marker": {
          "color": "#444"
         },
         "mode": "lines",
         "name": "Lower Bound",
         "showlegend": false,
         "type": "scatter",
         "x": [
          2,
          22,
          42,
          62,
          82,
          102,
          122,
          142,
          162,
          182,
          202,
          222,
          242,
          262,
          282,
          302,
          322,
          342,
          362,
          382,
          402,
          422,
          442,
          462,
          482,
          502,
          522
         ],
         "y": [
          null,
          null,
          null,
          null,
          null,
          null,
          null,
          null,
          null,
          null,
          null,
          null,
          null,
          null,
          null,
          null,
          null,
          null,
          null,
          null,
          null,
          null,
          null,
          null,
          null,
          null,
          null
         ]
        }
       ],
       "layout": {
        "hovermode": "x",
        "template": {
         "data": {
          "bar": [
           {
            "error_x": {
             "color": "#2a3f5f"
            },
            "error_y": {
             "color": "#2a3f5f"
            },
            "marker": {
             "line": {
              "color": "#E5ECF6",
              "width": 0.5
             },
             "pattern": {
              "fillmode": "overlay",
              "size": 10,
              "solidity": 0.2
             }
            },
            "type": "bar"
           }
          ],
          "barpolar": [
           {
            "marker": {
             "line": {
              "color": "#E5ECF6",
              "width": 0.5
             },
             "pattern": {
              "fillmode": "overlay",
              "size": 10,
              "solidity": 0.2
             }
            },
            "type": "barpolar"
           }
          ],
          "carpet": [
           {
            "aaxis": {
             "endlinecolor": "#2a3f5f",
             "gridcolor": "white",
             "linecolor": "white",
             "minorgridcolor": "white",
             "startlinecolor": "#2a3f5f"
            },
            "baxis": {
             "endlinecolor": "#2a3f5f",
             "gridcolor": "white",
             "linecolor": "white",
             "minorgridcolor": "white",
             "startlinecolor": "#2a3f5f"
            },
            "type": "carpet"
           }
          ],
          "choropleth": [
           {
            "colorbar": {
             "outlinewidth": 0,
             "ticks": ""
            },
            "type": "choropleth"
           }
          ],
          "contour": [
           {
            "colorbar": {
             "outlinewidth": 0,
             "ticks": ""
            },
            "colorscale": [
             [
              0,
              "#0d0887"
             ],
             [
              0.1111111111111111,
              "#46039f"
             ],
             [
              0.2222222222222222,
              "#7201a8"
             ],
             [
              0.3333333333333333,
              "#9c179e"
             ],
             [
              0.4444444444444444,
              "#bd3786"
             ],
             [
              0.5555555555555556,
              "#d8576b"
             ],
             [
              0.6666666666666666,
              "#ed7953"
             ],
             [
              0.7777777777777778,
              "#fb9f3a"
             ],
             [
              0.8888888888888888,
              "#fdca26"
             ],
             [
              1,
              "#f0f921"
             ]
            ],
            "type": "contour"
           }
          ],
          "contourcarpet": [
           {
            "colorbar": {
             "outlinewidth": 0,
             "ticks": ""
            },
            "type": "contourcarpet"
           }
          ],
          "heatmap": [
           {
            "colorbar": {
             "outlinewidth": 0,
             "ticks": ""
            },
            "colorscale": [
             [
              0,
              "#0d0887"
             ],
             [
              0.1111111111111111,
              "#46039f"
             ],
             [
              0.2222222222222222,
              "#7201a8"
             ],
             [
              0.3333333333333333,
              "#9c179e"
             ],
             [
              0.4444444444444444,
              "#bd3786"
             ],
             [
              0.5555555555555556,
              "#d8576b"
             ],
             [
              0.6666666666666666,
              "#ed7953"
             ],
             [
              0.7777777777777778,
              "#fb9f3a"
             ],
             [
              0.8888888888888888,
              "#fdca26"
             ],
             [
              1,
              "#f0f921"
             ]
            ],
            "type": "heatmap"
           }
          ],
          "heatmapgl": [
           {
            "colorbar": {
             "outlinewidth": 0,
             "ticks": ""
            },
            "colorscale": [
             [
              0,
              "#0d0887"
             ],
             [
              0.1111111111111111,
              "#46039f"
             ],
             [
              0.2222222222222222,
              "#7201a8"
             ],
             [
              0.3333333333333333,
              "#9c179e"
             ],
             [
              0.4444444444444444,
              "#bd3786"
             ],
             [
              0.5555555555555556,
              "#d8576b"
             ],
             [
              0.6666666666666666,
              "#ed7953"
             ],
             [
              0.7777777777777778,
              "#fb9f3a"
             ],
             [
              0.8888888888888888,
              "#fdca26"
             ],
             [
              1,
              "#f0f921"
             ]
            ],
            "type": "heatmapgl"
           }
          ],
          "histogram": [
           {
            "marker": {
             "pattern": {
              "fillmode": "overlay",
              "size": 10,
              "solidity": 0.2
             }
            },
            "type": "histogram"
           }
          ],
          "histogram2d": [
           {
            "colorbar": {
             "outlinewidth": 0,
             "ticks": ""
            },
            "colorscale": [
             [
              0,
              "#0d0887"
             ],
             [
              0.1111111111111111,
              "#46039f"
             ],
             [
              0.2222222222222222,
              "#7201a8"
             ],
             [
              0.3333333333333333,
              "#9c179e"
             ],
             [
              0.4444444444444444,
              "#bd3786"
             ],
             [
              0.5555555555555556,
              "#d8576b"
             ],
             [
              0.6666666666666666,
              "#ed7953"
             ],
             [
              0.7777777777777778,
              "#fb9f3a"
             ],
             [
              0.8888888888888888,
              "#fdca26"
             ],
             [
              1,
              "#f0f921"
             ]
            ],
            "type": "histogram2d"
           }
          ],
          "histogram2dcontour": [
           {
            "colorbar": {
             "outlinewidth": 0,
             "ticks": ""
            },
            "colorscale": [
             [
              0,
              "#0d0887"
             ],
             [
              0.1111111111111111,
              "#46039f"
             ],
             [
              0.2222222222222222,
              "#7201a8"
             ],
             [
              0.3333333333333333,
              "#9c179e"
             ],
             [
              0.4444444444444444,
              "#bd3786"
             ],
             [
              0.5555555555555556,
              "#d8576b"
             ],
             [
              0.6666666666666666,
              "#ed7953"
             ],
             [
              0.7777777777777778,
              "#fb9f3a"
             ],
             [
              0.8888888888888888,
              "#fdca26"
             ],
             [
              1,
              "#f0f921"
             ]
            ],
            "type": "histogram2dcontour"
           }
          ],
          "mesh3d": [
           {
            "colorbar": {
             "outlinewidth": 0,
             "ticks": ""
            },
            "type": "mesh3d"
           }
          ],
          "parcoords": [
           {
            "line": {
             "colorbar": {
              "outlinewidth": 0,
              "ticks": ""
             }
            },
            "type": "parcoords"
           }
          ],
          "pie": [
           {
            "automargin": true,
            "type": "pie"
           }
          ],
          "scatter": [
           {
            "fillpattern": {
             "fillmode": "overlay",
             "size": 10,
             "solidity": 0.2
            },
            "type": "scatter"
           }
          ],
          "scatter3d": [
           {
            "line": {
             "colorbar": {
              "outlinewidth": 0,
              "ticks": ""
             }
            },
            "marker": {
             "colorbar": {
              "outlinewidth": 0,
              "ticks": ""
             }
            },
            "type": "scatter3d"
           }
          ],
          "scattercarpet": [
           {
            "marker": {
             "colorbar": {
              "outlinewidth": 0,
              "ticks": ""
             }
            },
            "type": "scattercarpet"
           }
          ],
          "scattergeo": [
           {
            "marker": {
             "colorbar": {
              "outlinewidth": 0,
              "ticks": ""
             }
            },
            "type": "scattergeo"
           }
          ],
          "scattergl": [
           {
            "marker": {
             "colorbar": {
              "outlinewidth": 0,
              "ticks": ""
             }
            },
            "type": "scattergl"
           }
          ],
          "scattermapbox": [
           {
            "marker": {
             "colorbar": {
              "outlinewidth": 0,
              "ticks": ""
             }
            },
            "type": "scattermapbox"
           }
          ],
          "scatterpolar": [
           {
            "marker": {
             "colorbar": {
              "outlinewidth": 0,
              "ticks": ""
             }
            },
            "type": "scatterpolar"
           }
          ],
          "scatterpolargl": [
           {
            "marker": {
             "colorbar": {
              "outlinewidth": 0,
              "ticks": ""
             }
            },
            "type": "scatterpolargl"
           }
          ],
          "scatterternary": [
           {
            "marker": {
             "colorbar": {
              "outlinewidth": 0,
              "ticks": ""
             }
            },
            "type": "scatterternary"
           }
          ],
          "surface": [
           {
            "colorbar": {
             "outlinewidth": 0,
             "ticks": ""
            },
            "colorscale": [
             [
              0,
              "#0d0887"
             ],
             [
              0.1111111111111111,
              "#46039f"
             ],
             [
              0.2222222222222222,
              "#7201a8"
             ],
             [
              0.3333333333333333,
              "#9c179e"
             ],
             [
              0.4444444444444444,
              "#bd3786"
             ],
             [
              0.5555555555555556,
              "#d8576b"
             ],
             [
              0.6666666666666666,
              "#ed7953"
             ],
             [
              0.7777777777777778,
              "#fb9f3a"
             ],
             [
              0.8888888888888888,
              "#fdca26"
             ],
             [
              1,
              "#f0f921"
             ]
            ],
            "type": "surface"
           }
          ],
          "table": [
           {
            "cells": {
             "fill": {
              "color": "#EBF0F8"
             },
             "line": {
              "color": "white"
             }
            },
            "header": {
             "fill": {
              "color": "#C8D4E3"
             },
             "line": {
              "color": "white"
             }
            },
            "type": "table"
           }
          ]
         },
         "layout": {
          "annotationdefaults": {
           "arrowcolor": "#2a3f5f",
           "arrowhead": 0,
           "arrowwidth": 1
          },
          "autotypenumbers": "strict",
          "coloraxis": {
           "colorbar": {
            "outlinewidth": 0,
            "ticks": ""
           }
          },
          "colorscale": {
           "diverging": [
            [
             0,
             "#8e0152"
            ],
            [
             0.1,
             "#c51b7d"
            ],
            [
             0.2,
             "#de77ae"
            ],
            [
             0.3,
             "#f1b6da"
            ],
            [
             0.4,
             "#fde0ef"
            ],
            [
             0.5,
             "#f7f7f7"
            ],
            [
             0.6,
             "#e6f5d0"
            ],
            [
             0.7,
             "#b8e186"
            ],
            [
             0.8,
             "#7fbc41"
            ],
            [
             0.9,
             "#4d9221"
            ],
            [
             1,
             "#276419"
            ]
           ],
           "sequential": [
            [
             0,
             "#0d0887"
            ],
            [
             0.1111111111111111,
             "#46039f"
            ],
            [
             0.2222222222222222,
             "#7201a8"
            ],
            [
             0.3333333333333333,
             "#9c179e"
            ],
            [
             0.4444444444444444,
             "#bd3786"
            ],
            [
             0.5555555555555556,
             "#d8576b"
            ],
            [
             0.6666666666666666,
             "#ed7953"
            ],
            [
             0.7777777777777778,
             "#fb9f3a"
            ],
            [
             0.8888888888888888,
             "#fdca26"
            ],
            [
             1,
             "#f0f921"
            ]
           ],
           "sequentialminus": [
            [
             0,
             "#0d0887"
            ],
            [
             0.1111111111111111,
             "#46039f"
            ],
            [
             0.2222222222222222,
             "#7201a8"
            ],
            [
             0.3333333333333333,
             "#9c179e"
            ],
            [
             0.4444444444444444,
             "#bd3786"
            ],
            [
             0.5555555555555556,
             "#d8576b"
            ],
            [
             0.6666666666666666,
             "#ed7953"
            ],
            [
             0.7777777777777778,
             "#fb9f3a"
            ],
            [
             0.8888888888888888,
             "#fdca26"
            ],
            [
             1,
             "#f0f921"
            ]
           ]
          },
          "colorway": [
           "#636efa",
           "#EF553B",
           "#00cc96",
           "#ab63fa",
           "#FFA15A",
           "#19d3f3",
           "#FF6692",
           "#B6E880",
           "#FF97FF",
           "#FECB52"
          ],
          "font": {
           "color": "#2a3f5f"
          },
          "geo": {
           "bgcolor": "white",
           "lakecolor": "white",
           "landcolor": "#E5ECF6",
           "showlakes": true,
           "showland": true,
           "subunitcolor": "white"
          },
          "hoverlabel": {
           "align": "left"
          },
          "hovermode": "closest",
          "mapbox": {
           "style": "light"
          },
          "paper_bgcolor": "white",
          "plot_bgcolor": "#E5ECF6",
          "polar": {
           "angularaxis": {
            "gridcolor": "white",
            "linecolor": "white",
            "ticks": ""
           },
           "bgcolor": "#E5ECF6",
           "radialaxis": {
            "gridcolor": "white",
            "linecolor": "white",
            "ticks": ""
           }
          },
          "scene": {
           "xaxis": {
            "backgroundcolor": "#E5ECF6",
            "gridcolor": "white",
            "gridwidth": 2,
            "linecolor": "white",
            "showbackground": true,
            "ticks": "",
            "zerolinecolor": "white"
           },
           "yaxis": {
            "backgroundcolor": "#E5ECF6",
            "gridcolor": "white",
            "gridwidth": 2,
            "linecolor": "white",
            "showbackground": true,
            "ticks": "",
            "zerolinecolor": "white"
           },
           "zaxis": {
            "backgroundcolor": "#E5ECF6",
            "gridcolor": "white",
            "gridwidth": 2,
            "linecolor": "white",
            "showbackground": true,
            "ticks": "",
            "zerolinecolor": "white"
           }
          },
          "shapedefaults": {
           "line": {
            "color": "#2a3f5f"
           }
          },
          "ternary": {
           "aaxis": {
            "gridcolor": "white",
            "linecolor": "white",
            "ticks": ""
           },
           "baxis": {
            "gridcolor": "white",
            "linecolor": "white",
            "ticks": ""
           },
           "bgcolor": "#E5ECF6",
           "caxis": {
            "gridcolor": "white",
            "linecolor": "white",
            "ticks": ""
           }
          },
          "title": {
           "x": 0.05
          },
          "xaxis": {
           "automargin": true,
           "gridcolor": "white",
           "linecolor": "white",
           "ticks": "",
           "title": {
            "standoff": 15
           },
           "zerolinecolor": "white",
           "zerolinewidth": 2
          },
          "yaxis": {
           "automargin": true,
           "gridcolor": "white",
           "linecolor": "white",
           "ticks": "",
           "title": {
            "standoff": 15
           },
           "zerolinecolor": "white",
           "zerolinewidth": 2
          }
         }
        },
        "title": {
         "text": "MOT17-04-FRCNN: idf1 score over time with 25% of observations being random  (20 repetitions)"
        },
        "xaxis": {
         "title": {
          "text": "number of visits"
         }
        },
        "yaxis": {
         "title": {
          "text": "idf1score"
         }
        }
       }
      },
      "text/html": [
       "<div>                            <div id=\"bdb520a0-e87f-4ff5-b199-9e74d50c3f62\" class=\"plotly-graph-div\" style=\"height:525px; width:100%;\"></div>            <script type=\"text/javascript\">                require([\"plotly\"], function(Plotly) {                    window.PLOTLYENV=window.PLOTLYENV || {};                                    if (document.getElementById(\"bdb520a0-e87f-4ff5-b199-9e74d50c3f62\")) {                    Plotly.newPlot(                        \"bdb520a0-e87f-4ff5-b199-9e74d50c3f62\",                        [{\"mode\":\"lines\",\"name\":\"Track with HMM\",\"x\":[2,22,42,62,82,102,122,142,162,182,202,222,242,262,282,302,322,342,362,382,402,422,442,462,482,502,522],\"y\":[0.2305923301634657,0.4432368923483624,0.4752245957276901,0.496068430559983,0.506902908372346,0.4942359480505697,0.5186354351805184,0.5144228856381216,0.5124973466355338,0.51991831105453,0.5305554082011564,0.522581073015452,0.5258746452348744,0.5188981081978095,0.5226953176813901,0.5240413311933785,0.5313880230784535,0.5300015915963712,0.5301802458983779,0.5303729640829752,0.5313722629673346,0.5315915119363396,0.5308769696005093,0.5310556122922663,0.5308699285117445,0.531029086037906,0.531029086037906],\"type\":\"scatter\"},{\"line\":{\"width\":0},\"marker\":{\"color\":\"#444\"},\"mode\":\"lines\",\"name\":\"Upper Bound\",\"showlegend\":false,\"x\":[2,22,42,62,82,102,122,142,162,182,202,222,242,262,282,302,322,342,362,382,402,422,442,462,482,502,522],\"y\":[null,null,null,null,null,null,null,null,null,null,null,null,null,null,null,null,null,null,null,null,null,null,null,null,null,null,null],\"type\":\"scatter\"},{\"fill\":\"tonexty\",\"fillcolor\":\"rgba(68, 68, 68, 0.3)\",\"line\":{\"width\":0},\"marker\":{\"color\":\"#444\"},\"mode\":\"lines\",\"name\":\"Lower Bound\",\"showlegend\":false,\"x\":[2,22,42,62,82,102,122,142,162,182,202,222,242,262,282,302,322,342,362,382,402,422,442,462,482,502,522],\"y\":[null,null,null,null,null,null,null,null,null,null,null,null,null,null,null,null,null,null,null,null,null,null,null,null,null,null,null],\"type\":\"scatter\"},{\"mode\":\"lines\",\"name\":\"Track with Re-id\",\"x\":[2,22,42,62,82,102,122,142,162,182,202,222,242,262,282,302,322,342,362,382,402,422,442,462,482,502,522],\"y\":[0.55642177589852,0.5566067653276956,0.5401357484023762,0.5478546982570662,0.5389864193441537,0.5371896446646705,0.5328364914506197,0.5341291056824498,0.5314077509108976,0.5349425683284535,0.5325658330025143,0.5209014278341648,0.5282377919320594,0.5267499535821331,0.514058793742171,0.5221040330398523,0.5199276807317008,0.5221710203051753,0.5154923965734777,0.5159756712969111,0.5077975303385139,0.5095695368636357,0.5059859529637118,0.516153058374453,0.5061379916384843,0.5130813372921299,0.5061447307103388],\"type\":\"scatter\"},{\"line\":{\"width\":0},\"marker\":{\"color\":\"#444\"},\"mode\":\"lines\",\"name\":\"Upper Bound\",\"showlegend\":false,\"x\":[2,22,42,62,82,102,122,142,162,182,202,222,242,262,282,302,322,342,362,382,402,422,442,462,482,502,522],\"y\":[null,null,null,null,null,null,null,null,null,null,null,null,null,null,null,null,null,null,null,null,null,null,null,null,null,null,null],\"type\":\"scatter\"},{\"fill\":\"tonexty\",\"fillcolor\":\"rgba(68, 68, 68, 0.3)\",\"line\":{\"width\":0},\"marker\":{\"color\":\"#444\"},\"mode\":\"lines\",\"name\":\"Lower Bound\",\"showlegend\":false,\"x\":[2,22,42,62,82,102,122,142,162,182,202,222,242,262,282,302,322,342,362,382,402,422,442,462,482,502,522],\"y\":[null,null,null,null,null,null,null,null,null,null,null,null,null,null,null,null,null,null,null,null,null,null,null,null,null,null,null],\"type\":\"scatter\"}],                        {\"template\":{\"data\":{\"histogram2dcontour\":[{\"type\":\"histogram2dcontour\",\"colorbar\":{\"outlinewidth\":0,\"ticks\":\"\"},\"colorscale\":[[0.0,\"#0d0887\"],[0.1111111111111111,\"#46039f\"],[0.2222222222222222,\"#7201a8\"],[0.3333333333333333,\"#9c179e\"],[0.4444444444444444,\"#bd3786\"],[0.5555555555555556,\"#d8576b\"],[0.6666666666666666,\"#ed7953\"],[0.7777777777777778,\"#fb9f3a\"],[0.8888888888888888,\"#fdca26\"],[1.0,\"#f0f921\"]]}],\"choropleth\":[{\"type\":\"choropleth\",\"colorbar\":{\"outlinewidth\":0,\"ticks\":\"\"}}],\"histogram2d\":[{\"type\":\"histogram2d\",\"colorbar\":{\"outlinewidth\":0,\"ticks\":\"\"},\"colorscale\":[[0.0,\"#0d0887\"],[0.1111111111111111,\"#46039f\"],[0.2222222222222222,\"#7201a8\"],[0.3333333333333333,\"#9c179e\"],[0.4444444444444444,\"#bd3786\"],[0.5555555555555556,\"#d8576b\"],[0.6666666666666666,\"#ed7953\"],[0.7777777777777778,\"#fb9f3a\"],[0.8888888888888888,\"#fdca26\"],[1.0,\"#f0f921\"]]}],\"heatmap\":[{\"type\":\"heatmap\",\"colorbar\":{\"outlinewidth\":0,\"ticks\":\"\"},\"colorscale\":[[0.0,\"#0d0887\"],[0.1111111111111111,\"#46039f\"],[0.2222222222222222,\"#7201a8\"],[0.3333333333333333,\"#9c179e\"],[0.4444444444444444,\"#bd3786\"],[0.5555555555555556,\"#d8576b\"],[0.6666666666666666,\"#ed7953\"],[0.7777777777777778,\"#fb9f3a\"],[0.8888888888888888,\"#fdca26\"],[1.0,\"#f0f921\"]]}],\"heatmapgl\":[{\"type\":\"heatmapgl\",\"colorbar\":{\"outlinewidth\":0,\"ticks\":\"\"},\"colorscale\":[[0.0,\"#0d0887\"],[0.1111111111111111,\"#46039f\"],[0.2222222222222222,\"#7201a8\"],[0.3333333333333333,\"#9c179e\"],[0.4444444444444444,\"#bd3786\"],[0.5555555555555556,\"#d8576b\"],[0.6666666666666666,\"#ed7953\"],[0.7777777777777778,\"#fb9f3a\"],[0.8888888888888888,\"#fdca26\"],[1.0,\"#f0f921\"]]}],\"contourcarpet\":[{\"type\":\"contourcarpet\",\"colorbar\":{\"outlinewidth\":0,\"ticks\":\"\"}}],\"contour\":[{\"type\":\"contour\",\"colorbar\":{\"outlinewidth\":0,\"ticks\":\"\"},\"colorscale\":[[0.0,\"#0d0887\"],[0.1111111111111111,\"#46039f\"],[0.2222222222222222,\"#7201a8\"],[0.3333333333333333,\"#9c179e\"],[0.4444444444444444,\"#bd3786\"],[0.5555555555555556,\"#d8576b\"],[0.6666666666666666,\"#ed7953\"],[0.7777777777777778,\"#fb9f3a\"],[0.8888888888888888,\"#fdca26\"],[1.0,\"#f0f921\"]]}],\"surface\":[{\"type\":\"surface\",\"colorbar\":{\"outlinewidth\":0,\"ticks\":\"\"},\"colorscale\":[[0.0,\"#0d0887\"],[0.1111111111111111,\"#46039f\"],[0.2222222222222222,\"#7201a8\"],[0.3333333333333333,\"#9c179e\"],[0.4444444444444444,\"#bd3786\"],[0.5555555555555556,\"#d8576b\"],[0.6666666666666666,\"#ed7953\"],[0.7777777777777778,\"#fb9f3a\"],[0.8888888888888888,\"#fdca26\"],[1.0,\"#f0f921\"]]}],\"mesh3d\":[{\"type\":\"mesh3d\",\"colorbar\":{\"outlinewidth\":0,\"ticks\":\"\"}}],\"scatter\":[{\"fillpattern\":{\"fillmode\":\"overlay\",\"size\":10,\"solidity\":0.2},\"type\":\"scatter\"}],\"parcoords\":[{\"type\":\"parcoords\",\"line\":{\"colorbar\":{\"outlinewidth\":0,\"ticks\":\"\"}}}],\"scatterpolargl\":[{\"type\":\"scatterpolargl\",\"marker\":{\"colorbar\":{\"outlinewidth\":0,\"ticks\":\"\"}}}],\"bar\":[{\"error_x\":{\"color\":\"#2a3f5f\"},\"error_y\":{\"color\":\"#2a3f5f\"},\"marker\":{\"line\":{\"color\":\"#E5ECF6\",\"width\":0.5},\"pattern\":{\"fillmode\":\"overlay\",\"size\":10,\"solidity\":0.2}},\"type\":\"bar\"}],\"scattergeo\":[{\"type\":\"scattergeo\",\"marker\":{\"colorbar\":{\"outlinewidth\":0,\"ticks\":\"\"}}}],\"scatterpolar\":[{\"type\":\"scatterpolar\",\"marker\":{\"colorbar\":{\"outlinewidth\":0,\"ticks\":\"\"}}}],\"histogram\":[{\"marker\":{\"pattern\":{\"fillmode\":\"overlay\",\"size\":10,\"solidity\":0.2}},\"type\":\"histogram\"}],\"scattergl\":[{\"type\":\"scattergl\",\"marker\":{\"colorbar\":{\"outlinewidth\":0,\"ticks\":\"\"}}}],\"scatter3d\":[{\"type\":\"scatter3d\",\"line\":{\"colorbar\":{\"outlinewidth\":0,\"ticks\":\"\"}},\"marker\":{\"colorbar\":{\"outlinewidth\":0,\"ticks\":\"\"}}}],\"scattermapbox\":[{\"type\":\"scattermapbox\",\"marker\":{\"colorbar\":{\"outlinewidth\":0,\"ticks\":\"\"}}}],\"scatterternary\":[{\"type\":\"scatterternary\",\"marker\":{\"colorbar\":{\"outlinewidth\":0,\"ticks\":\"\"}}}],\"scattercarpet\":[{\"type\":\"scattercarpet\",\"marker\":{\"colorbar\":{\"outlinewidth\":0,\"ticks\":\"\"}}}],\"carpet\":[{\"aaxis\":{\"endlinecolor\":\"#2a3f5f\",\"gridcolor\":\"white\",\"linecolor\":\"white\",\"minorgridcolor\":\"white\",\"startlinecolor\":\"#2a3f5f\"},\"baxis\":{\"endlinecolor\":\"#2a3f5f\",\"gridcolor\":\"white\",\"linecolor\":\"white\",\"minorgridcolor\":\"white\",\"startlinecolor\":\"#2a3f5f\"},\"type\":\"carpet\"}],\"table\":[{\"cells\":{\"fill\":{\"color\":\"#EBF0F8\"},\"line\":{\"color\":\"white\"}},\"header\":{\"fill\":{\"color\":\"#C8D4E3\"},\"line\":{\"color\":\"white\"}},\"type\":\"table\"}],\"barpolar\":[{\"marker\":{\"line\":{\"color\":\"#E5ECF6\",\"width\":0.5},\"pattern\":{\"fillmode\":\"overlay\",\"size\":10,\"solidity\":0.2}},\"type\":\"barpolar\"}],\"pie\":[{\"automargin\":true,\"type\":\"pie\"}]},\"layout\":{\"autotypenumbers\":\"strict\",\"colorway\":[\"#636efa\",\"#EF553B\",\"#00cc96\",\"#ab63fa\",\"#FFA15A\",\"#19d3f3\",\"#FF6692\",\"#B6E880\",\"#FF97FF\",\"#FECB52\"],\"font\":{\"color\":\"#2a3f5f\"},\"hovermode\":\"closest\",\"hoverlabel\":{\"align\":\"left\"},\"paper_bgcolor\":\"white\",\"plot_bgcolor\":\"#E5ECF6\",\"polar\":{\"bgcolor\":\"#E5ECF6\",\"angularaxis\":{\"gridcolor\":\"white\",\"linecolor\":\"white\",\"ticks\":\"\"},\"radialaxis\":{\"gridcolor\":\"white\",\"linecolor\":\"white\",\"ticks\":\"\"}},\"ternary\":{\"bgcolor\":\"#E5ECF6\",\"aaxis\":{\"gridcolor\":\"white\",\"linecolor\":\"white\",\"ticks\":\"\"},\"baxis\":{\"gridcolor\":\"white\",\"linecolor\":\"white\",\"ticks\":\"\"},\"caxis\":{\"gridcolor\":\"white\",\"linecolor\":\"white\",\"ticks\":\"\"}},\"coloraxis\":{\"colorbar\":{\"outlinewidth\":0,\"ticks\":\"\"}},\"colorscale\":{\"sequential\":[[0.0,\"#0d0887\"],[0.1111111111111111,\"#46039f\"],[0.2222222222222222,\"#7201a8\"],[0.3333333333333333,\"#9c179e\"],[0.4444444444444444,\"#bd3786\"],[0.5555555555555556,\"#d8576b\"],[0.6666666666666666,\"#ed7953\"],[0.7777777777777778,\"#fb9f3a\"],[0.8888888888888888,\"#fdca26\"],[1.0,\"#f0f921\"]],\"sequentialminus\":[[0.0,\"#0d0887\"],[0.1111111111111111,\"#46039f\"],[0.2222222222222222,\"#7201a8\"],[0.3333333333333333,\"#9c179e\"],[0.4444444444444444,\"#bd3786\"],[0.5555555555555556,\"#d8576b\"],[0.6666666666666666,\"#ed7953\"],[0.7777777777777778,\"#fb9f3a\"],[0.8888888888888888,\"#fdca26\"],[1.0,\"#f0f921\"]],\"diverging\":[[0,\"#8e0152\"],[0.1,\"#c51b7d\"],[0.2,\"#de77ae\"],[0.3,\"#f1b6da\"],[0.4,\"#fde0ef\"],[0.5,\"#f7f7f7\"],[0.6,\"#e6f5d0\"],[0.7,\"#b8e186\"],[0.8,\"#7fbc41\"],[0.9,\"#4d9221\"],[1,\"#276419\"]]},\"xaxis\":{\"gridcolor\":\"white\",\"linecolor\":\"white\",\"ticks\":\"\",\"title\":{\"standoff\":15},\"zerolinecolor\":\"white\",\"automargin\":true,\"zerolinewidth\":2},\"yaxis\":{\"gridcolor\":\"white\",\"linecolor\":\"white\",\"ticks\":\"\",\"title\":{\"standoff\":15},\"zerolinecolor\":\"white\",\"automargin\":true,\"zerolinewidth\":2},\"scene\":{\"xaxis\":{\"backgroundcolor\":\"#E5ECF6\",\"gridcolor\":\"white\",\"linecolor\":\"white\",\"showbackground\":true,\"ticks\":\"\",\"zerolinecolor\":\"white\",\"gridwidth\":2},\"yaxis\":{\"backgroundcolor\":\"#E5ECF6\",\"gridcolor\":\"white\",\"linecolor\":\"white\",\"showbackground\":true,\"ticks\":\"\",\"zerolinecolor\":\"white\",\"gridwidth\":2},\"zaxis\":{\"backgroundcolor\":\"#E5ECF6\",\"gridcolor\":\"white\",\"linecolor\":\"white\",\"showbackground\":true,\"ticks\":\"\",\"zerolinecolor\":\"white\",\"gridwidth\":2}},\"shapedefaults\":{\"line\":{\"color\":\"#2a3f5f\"}},\"annotationdefaults\":{\"arrowcolor\":\"#2a3f5f\",\"arrowhead\":0,\"arrowwidth\":1},\"geo\":{\"bgcolor\":\"white\",\"landcolor\":\"#E5ECF6\",\"subunitcolor\":\"white\",\"showland\":true,\"showlakes\":true,\"lakecolor\":\"white\"},\"title\":{\"x\":0.05},\"mapbox\":{\"style\":\"light\"}}},\"xaxis\":{\"title\":{\"text\":\"number of visits\"}},\"yaxis\":{\"title\":{\"text\":\"idf1score\"}},\"title\":{\"text\":\"MOT17-04-FRCNN: idf1 score over time with 25% of observations being random  (20 repetitions)\"},\"hovermode\":\"x\"},                        {\"responsive\": true}                    ).then(function(){\n",
       "                            \n",
       "var gd = document.getElementById('bdb520a0-e87f-4ff5-b199-9e74d50c3f62');\n",
       "var x = new MutationObserver(function (mutations, observer) {{\n",
       "        var display = window.getComputedStyle(gd).display;\n",
       "        if (!display || display === 'none') {{\n",
       "            console.log([gd, 'removed!']);\n",
       "            Plotly.purge(gd);\n",
       "            observer.disconnect();\n",
       "        }}\n",
       "}});\n",
       "\n",
       "// Listen for the removal of the full notebook cells\n",
       "var notebookContainer = gd.closest('#notebook-container');\n",
       "if (notebookContainer) {{\n",
       "    x.observe(notebookContainer, {childList: true});\n",
       "}}\n",
       "\n",
       "// Listen for the clearing of the current output cell\n",
       "var outputEl = gd.closest('.output');\n",
       "if (outputEl) {{\n",
       "    x.observe(outputEl, {childList: true});\n",
       "}}\n",
       "\n",
       "                        })                };                });            </script>        </div>"
      ]
     },
     "metadata": {},
     "output_type": "display_data"
    }
   ],
   "source": [
    "for dataset_name in folders:\n",
    "    dataset_name=  \"MOT17-04-FRCNN\"\n",
    "    base_path= home_folder+\"YOLOX_outputs/yolox_x_ablation/track_results/\"+dataset_name+\"/fairmot/\"+dataset_name.split(\"-\")[0]+\"-\"+dataset_name.split(\"-\")[1]+\"-SDP\"\n",
    "\n",
    "    hmm_based= base_path+'accuracy_over_nbr_of_visits_with_track_helping.csv'\n",
    "    re_id=base_path+'accuracy_Re_id_over_nbr_of_visits_with_track_helping.csv'\n",
    "    tracker =base_path+'accuracy_Re_id_over_nbr_of_visits_with_track_helping.csv'\n",
    "\n",
    "    draw_graph(hmm_based,re_id, dataset_name=dataset_name)\n",
    "    break"
   ]
  },
  {
   "cell_type": "code",
   "execution_count": null,
   "metadata": {},
   "outputs": [],
   "source": [
    "! rm -r /home/sophie/uncertain-identity-aware-tracking/Bytetrack/YOLOX_outputs/yolox_x_ablation/videos/MOT17-04-FRCNN_with_atqper_id_2_.mp4"
   ]
  },
  {
   "cell_type": "code",
   "execution_count": null,
   "metadata": {},
   "outputs": [],
   "source": []
  },
  {
   "cell_type": "code",
   "execution_count": null,
   "metadata": {},
   "outputs": [],
   "source": []
  }
 ],
 "metadata": {
  "kernelspec": {
   "display_name": "HMMBytetrack",
   "language": "python",
   "name": "python3"
  },
  "language_info": {
   "codemirror_mode": {
    "name": "ipython",
    "version": 3
   },
   "file_extension": ".py",
   "mimetype": "text/x-python",
   "name": "python",
   "nbconvert_exporter": "python",
   "pygments_lexer": "ipython3",
   "version": "3.11.4"
  }
 },
 "nbformat": 4,
 "nbformat_minor": 2
}
